{
  "nbformat": 4,
  "nbformat_minor": 0,
  "metadata": {
    "colab": {
      "provenance": [],
      "mount_file_id": "14xh0h7YG3dbLKYpbnLyipq1BjSbJp_Tq",
      "authorship_tag": "ABX9TyNO1PKvMPwJayp+gbWRP33U",
      "include_colab_link": true
    },
    "kernelspec": {
      "name": "python3",
      "display_name": "Python 3"
    },
    "language_info": {
      "name": "python"
    }
  },
  "cells": [
    {
      "cell_type": "markdown",
      "metadata": {
        "id": "view-in-github",
        "colab_type": "text"
      },
      "source": [
        "<a href=\"https://colab.research.google.com/github/anonym2800/CRUD_MAHASISWA/blob/master/dataVisualizationUAS.ipynb\" target=\"_parent\"><img src=\"https://colab.research.google.com/assets/colab-badge.svg\" alt=\"Open In Colab\"/></a>"
      ]
    },
    {
      "cell_type": "code",
      "execution_count": 1,
      "metadata": {
        "id": "mjsHfuwC7wzD"
      },
      "outputs": [],
      "source": [
        "import pandas as pd\n",
        "import matplotlib.pyplot as plt"
      ]
    },
    {
      "cell_type": "code",
      "source": [
        "# Mengambil data dari resource\n",
        "data = pd.read_csv('sample_data/kebutuhan_per_bulan_2.csv')\n",
        "data"
      ],
      "metadata": {
        "id": "Yp5aOGJf9O9s"
      },
      "execution_count": null,
      "outputs": []
    },
    {
      "cell_type": "code",
      "source": [
        "# Filtering propinsi\n",
        "data_filtered = data [data['Propinsi']=='MALUKU']\n",
        "data_filtered"
      ],
      "metadata": {
        "id": "j5L99o2Z-qa2"
      },
      "execution_count": null,
      "outputs": []
    },
    {
      "cell_type": "code",
      "source": [
        "# TABEL PERTAMA\n",
        "x = data_filtered['tahun']\n",
        "y = data_filtered['kebutuhan']\n",
        "\n",
        "plt.scatter(x, y)\n",
        "\n",
        "#add label\n",
        "plt.xlabel(\"Tahun\", fontsize = 13)\n",
        "plt.ylabel(\"Kebutuhan\" , fontsize = 13)\n",
        "plt.title('Kebutuhan per bulan pada Maluku', fontweight =\"bold\",)\n",
        "plt.show()"
      ],
      "metadata": {
        "id": "YLCReLwIBRVc"
      },
      "execution_count": null,
      "outputs": []
    },
    {
      "cell_type": "code",
      "source": [
        "# Filtering Propinsi\n",
        "data_filtered_jabar = data [data['Propinsi']=='JAWA BARAT']\n",
        "data_filtered_jabar"
      ],
      "metadata": {
        "id": "E4EMBSu2DQie"
      },
      "execution_count": null,
      "outputs": []
    },
    {
      "cell_type": "code",
      "source": [
        "# TABEL KEDUA\n",
        "y = data_filtered_jabar[\"kebutuhan\"]\n",
        "x = data_filtered_jabar[\"tahun\"]\n",
        "\n",
        "#Bars\n",
        "plt.bar(x, y)\n",
        "\n",
        "#line\n",
        "plt.plot(x, y, 'o-', color='red')\n",
        "\n",
        "#add label\n",
        "plt.xlabel(\"Tahun\", fontsize = 13)\n",
        "plt.ylabel(\"Kebutuhan\" , fontsize = 13)\n",
        "plt.title('Kebutuhan per bulan pada Jawa Barat', fontweight =\"bold\",)\n",
        "plt.show()"
      ],
      "metadata": {
        "id": "VMmz-6FvLNxT"
      },
      "execution_count": null,
      "outputs": []
    },
    {
      "cell_type": "code",
      "source": [
        "# Mengambil data dari resource\n",
        "df = pd.read_csv('sample_data/SupplyKantor.csv')\n",
        "df"
      ],
      "metadata": {
        "id": "Eo80ixPfNTUT"
      },
      "execution_count": null,
      "outputs": []
    },
    {
      "cell_type": "code",
      "source": [
        "# sort by"
      ],
      "metadata": {
        "id": "_YI6ig4TNm1C"
      },
      "execution_count": null,
      "outputs": []
    }
  ]
}